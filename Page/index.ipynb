{
 "cells": [
  {
   "cell_type": "code",
   "execution_count": 151,
   "metadata": {},
   "outputs": [
    {
     "ename": "ModuleNotFoundError",
     "evalue": "No module named 'ipmspacecraft'",
     "output_type": "error",
     "traceback": [
      "\u001b[1;31m---------------------------------------------------------------------------\u001b[0m",
      "\u001b[1;31mModuleNotFoundError\u001b[0m                       Traceback (most recent call last)",
      "\u001b[1;32ma:\\project & example python\\mch\\IPM Spacecraft\\Page\\index.ipynb Cell 1\u001b[0m in \u001b[0;36m<cell line: 1>\u001b[1;34m()\u001b[0m\n\u001b[1;32m----> <a href='vscode-notebook-cell:/a%3A/project%20%26%20example%20python/mch/IPM%20Spacecraft/Page/index.ipynb#X22sZmlsZQ%3D%3D?line=0'>1</a>\u001b[0m \u001b[39mimport\u001b[39;00m \u001b[39mipmspacecraft\u001b[39;00m\u001b[39m.\u001b[39;00m\u001b[39mipm_lab\u001b[39;00m \u001b[39mas\u001b[39;00m \u001b[39mipm\u001b[39;00m\n\u001b[0;32m      <a href='vscode-notebook-cell:/a%3A/project%20%26%20example%20python/mch/IPM%20Spacecraft/Page/index.ipynb#X22sZmlsZQ%3D%3D?line=1'>2</a>\u001b[0m x_train \u001b[39m=\u001b[39m [\u001b[39m2\u001b[39m,\u001b[39m3\u001b[39m,\u001b[39m4\u001b[39m,\u001b[39m5\u001b[39m] \n\u001b[0;32m      <a href='vscode-notebook-cell:/a%3A/project%20%26%20example%20python/mch/IPM%20Spacecraft/Page/index.ipynb#X22sZmlsZQ%3D%3D?line=2'>3</a>\u001b[0m y_train \u001b[39m=\u001b[39m [\u001b[39m2\u001b[39m,\u001b[39m4\u001b[39m,\u001b[39m5\u001b[39m,\u001b[39m3\u001b[39m]\n",
      "\u001b[1;31mModuleNotFoundError\u001b[0m: No module named 'ipmspacecraft'"
     ]
    }
   ],
   "source": [
    "import ipmspacecraft.ipm_lab as ipm\n",
    "x_train = [2,3,4,5] \n",
    "y_train = [2,4,5,3]\n",
    "model_w, model_b = ipm.rgd(x_train, y_train, 10000, 1e-2)\n",
    "print(model_w,model_b)"
   ]
  },
  {
   "cell_type": "code",
   "execution_count": null,
   "metadata": {},
   "outputs": [],
   "source": []
  }
 ],
 "metadata": {
  "language_info": {
   "name": "python"
  },
  "orig_nbformat": 4
 },
 "nbformat": 4,
 "nbformat_minor": 2
}
