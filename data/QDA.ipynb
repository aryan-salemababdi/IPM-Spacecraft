{
  "nbformat": 4,
  "nbformat_minor": 0,
  "metadata": {
    "colab": {
      "provenance": []
    },
    "kernelspec": {
      "name": "python3",
      "display_name": "Python 3"
    },
    "language_info": {
      "name": "python"
    }
  },
  "cells": [
    {
      "cell_type": "markdown",
      "source": [
        "\n",
        "\n",
        "*   defind library\n",
        "* numpy and sklearn and pandas \n",
        "\n",
        "\n"
      ],
      "metadata": {
        "id": "ctFZRbFLtlpA"
      }
    },
    {
      "cell_type": "code",
      "source": [
        "import numpy as np\n",
        "import sklearn as sk\n",
        "import pandas as pd"
      ],
      "metadata": {
        "id": "tcwGDxXzeIRY"
      },
      "execution_count": 29,
      "outputs": []
    },
    {
      "cell_type": "markdown",
      "source": [
        "defind function evaluation for calculation **accurcy** and **loss**"
      ],
      "metadata": {
        "id": "nUCgh_nLtkYz"
      }
    },
    {
      "cell_type": "code",
      "source": [
        "def evaluate(predict,label):\n",
        "  N=label.shape[0]\n",
        "  H=predict==label\n",
        "  Nt=np.sum(H==1)\n",
        "  accurcy=Nt/N\n",
        "  loss=1-accurcy\n",
        "  return accurcy , loss"
      ],
      "metadata": {
        "id": "kGbOUiF8bjX_"
      },
      "execution_count": 30,
      "outputs": []
    },
    {
      "cell_type": "markdown",
      "source": [
        "loding database with pandas "
      ],
      "metadata": {
        "id": "8wYX1H9n6jvQ"
      }
    },
    {
      "cell_type": "code",
      "source": [
        "df = pd.read_csv(\"cleandata.csv\")\n",
        "df.head()\n",
        "_df = df.drop(\"Unnamed: 0\",axis=\"columns\")\n",
        "_df.head()"
      ],
      "metadata": {
        "id": "qfbPhU6veIOD",
        "colab": {
          "base_uri": "https://localhost:8080/"
        },
        "outputId": "9424267f-0abc-4687-9a43-c3e4e1d89afc"
      },
      "execution_count": 31,
      "outputs": [
        {
          "output_type": "execute_result",
          "data": {
            "text/plain": [
              "  PassengerId  CryoSleep  Cabin  Destination   Age  VIP               Name  \\\n",
              "0     0001_01          0  B/0/P  TRAPPIST-1e  39.0    0    Maham Ofracculy   \n",
              "1     0002_01          0  F/0/S  TRAPPIST-1e  24.0    0       Juanna Vines   \n",
              "2     0003_01          0  A/0/S  TRAPPIST-1e  58.0    1      Altark Susent   \n",
              "3     0003_02          0  A/0/S  TRAPPIST-1e  33.0    0       Solam Susent   \n",
              "4     0004_01          0  F/1/S  TRAPPIST-1e  16.0    0  Willy Santantines   \n",
              "\n",
              "   Transported  \n",
              "0            0  \n",
              "1            1  \n",
              "2            0  \n",
              "3            0  \n",
              "4            1  "
            ],
            "text/html": [
              "\n",
              "  <div id=\"df-c3d27187-30f2-4c81-b63a-1094817bf2fc\">\n",
              "    <div class=\"colab-df-container\">\n",
              "      <div>\n",
              "<style scoped>\n",
              "    .dataframe tbody tr th:only-of-type {\n",
              "        vertical-align: middle;\n",
              "    }\n",
              "\n",
              "    .dataframe tbody tr th {\n",
              "        vertical-align: top;\n",
              "    }\n",
              "\n",
              "    .dataframe thead th {\n",
              "        text-align: right;\n",
              "    }\n",
              "</style>\n",
              "<table border=\"1\" class=\"dataframe\">\n",
              "  <thead>\n",
              "    <tr style=\"text-align: right;\">\n",
              "      <th></th>\n",
              "      <th>PassengerId</th>\n",
              "      <th>CryoSleep</th>\n",
              "      <th>Cabin</th>\n",
              "      <th>Destination</th>\n",
              "      <th>Age</th>\n",
              "      <th>VIP</th>\n",
              "      <th>Name</th>\n",
              "      <th>Transported</th>\n",
              "    </tr>\n",
              "  </thead>\n",
              "  <tbody>\n",
              "    <tr>\n",
              "      <th>0</th>\n",
              "      <td>0001_01</td>\n",
              "      <td>0</td>\n",
              "      <td>B/0/P</td>\n",
              "      <td>TRAPPIST-1e</td>\n",
              "      <td>39.0</td>\n",
              "      <td>0</td>\n",
              "      <td>Maham Ofracculy</td>\n",
              "      <td>0</td>\n",
              "    </tr>\n",
              "    <tr>\n",
              "      <th>1</th>\n",
              "      <td>0002_01</td>\n",
              "      <td>0</td>\n",
              "      <td>F/0/S</td>\n",
              "      <td>TRAPPIST-1e</td>\n",
              "      <td>24.0</td>\n",
              "      <td>0</td>\n",
              "      <td>Juanna Vines</td>\n",
              "      <td>1</td>\n",
              "    </tr>\n",
              "    <tr>\n",
              "      <th>2</th>\n",
              "      <td>0003_01</td>\n",
              "      <td>0</td>\n",
              "      <td>A/0/S</td>\n",
              "      <td>TRAPPIST-1e</td>\n",
              "      <td>58.0</td>\n",
              "      <td>1</td>\n",
              "      <td>Altark Susent</td>\n",
              "      <td>0</td>\n",
              "    </tr>\n",
              "    <tr>\n",
              "      <th>3</th>\n",
              "      <td>0003_02</td>\n",
              "      <td>0</td>\n",
              "      <td>A/0/S</td>\n",
              "      <td>TRAPPIST-1e</td>\n",
              "      <td>33.0</td>\n",
              "      <td>0</td>\n",
              "      <td>Solam Susent</td>\n",
              "      <td>0</td>\n",
              "    </tr>\n",
              "    <tr>\n",
              "      <th>4</th>\n",
              "      <td>0004_01</td>\n",
              "      <td>0</td>\n",
              "      <td>F/1/S</td>\n",
              "      <td>TRAPPIST-1e</td>\n",
              "      <td>16.0</td>\n",
              "      <td>0</td>\n",
              "      <td>Willy Santantines</td>\n",
              "      <td>1</td>\n",
              "    </tr>\n",
              "  </tbody>\n",
              "</table>\n",
              "</div>\n",
              "      <button class=\"colab-df-convert\" onclick=\"convertToInteractive('df-c3d27187-30f2-4c81-b63a-1094817bf2fc')\"\n",
              "              title=\"Convert this dataframe to an interactive table.\"\n",
              "              style=\"display:none;\">\n",
              "        \n",
              "  <svg xmlns=\"http://www.w3.org/2000/svg\" height=\"24px\"viewBox=\"0 0 24 24\"\n",
              "       width=\"24px\">\n",
              "    <path d=\"M0 0h24v24H0V0z\" fill=\"none\"/>\n",
              "    <path d=\"M18.56 5.44l.94 2.06.94-2.06 2.06-.94-2.06-.94-.94-2.06-.94 2.06-2.06.94zm-11 1L8.5 8.5l.94-2.06 2.06-.94-2.06-.94L8.5 2.5l-.94 2.06-2.06.94zm10 10l.94 2.06.94-2.06 2.06-.94-2.06-.94-.94-2.06-.94 2.06-2.06.94z\"/><path d=\"M17.41 7.96l-1.37-1.37c-.4-.4-.92-.59-1.43-.59-.52 0-1.04.2-1.43.59L10.3 9.45l-7.72 7.72c-.78.78-.78 2.05 0 2.83L4 21.41c.39.39.9.59 1.41.59.51 0 1.02-.2 1.41-.59l7.78-7.78 2.81-2.81c.8-.78.8-2.07 0-2.86zM5.41 20L4 18.59l7.72-7.72 1.47 1.35L5.41 20z\"/>\n",
              "  </svg>\n",
              "      </button>\n",
              "      \n",
              "  <style>\n",
              "    .colab-df-container {\n",
              "      display:flex;\n",
              "      flex-wrap:wrap;\n",
              "      gap: 12px;\n",
              "    }\n",
              "\n",
              "    .colab-df-convert {\n",
              "      background-color: #E8F0FE;\n",
              "      border: none;\n",
              "      border-radius: 50%;\n",
              "      cursor: pointer;\n",
              "      display: none;\n",
              "      fill: #1967D2;\n",
              "      height: 32px;\n",
              "      padding: 0 0 0 0;\n",
              "      width: 32px;\n",
              "    }\n",
              "\n",
              "    .colab-df-convert:hover {\n",
              "      background-color: #E2EBFA;\n",
              "      box-shadow: 0px 1px 2px rgba(60, 64, 67, 0.3), 0px 1px 3px 1px rgba(60, 64, 67, 0.15);\n",
              "      fill: #174EA6;\n",
              "    }\n",
              "\n",
              "    [theme=dark] .colab-df-convert {\n",
              "      background-color: #3B4455;\n",
              "      fill: #D2E3FC;\n",
              "    }\n",
              "\n",
              "    [theme=dark] .colab-df-convert:hover {\n",
              "      background-color: #434B5C;\n",
              "      box-shadow: 0px 1px 3px 1px rgba(0, 0, 0, 0.15);\n",
              "      filter: drop-shadow(0px 1px 2px rgba(0, 0, 0, 0.3));\n",
              "      fill: #FFFFFF;\n",
              "    }\n",
              "  </style>\n",
              "\n",
              "      <script>\n",
              "        const buttonEl =\n",
              "          document.querySelector('#df-c3d27187-30f2-4c81-b63a-1094817bf2fc button.colab-df-convert');\n",
              "        buttonEl.style.display =\n",
              "          google.colab.kernel.accessAllowed ? 'block' : 'none';\n",
              "\n",
              "        async function convertToInteractive(key) {\n",
              "          const element = document.querySelector('#df-c3d27187-30f2-4c81-b63a-1094817bf2fc');\n",
              "          const dataTable =\n",
              "            await google.colab.kernel.invokeFunction('convertToInteractive',\n",
              "                                                     [key], {});\n",
              "          if (!dataTable) return;\n",
              "\n",
              "          const docLinkHtml = 'Like what you see? Visit the ' +\n",
              "            '<a target=\"_blank\" href=https://colab.research.google.com/notebooks/data_table.ipynb>data table notebook</a>'\n",
              "            + ' to learn more about interactive tables.';\n",
              "          element.innerHTML = '';\n",
              "          dataTable['output_type'] = 'display_data';\n",
              "          await google.colab.output.renderOutput(dataTable, element);\n",
              "          const docLink = document.createElement('div');\n",
              "          docLink.innerHTML = docLinkHtml;\n",
              "          element.appendChild(docLink);\n",
              "        }\n",
              "      </script>\n",
              "    </div>\n",
              "  </div>\n",
              "  "
            ]
          },
          "metadata": {},
          "execution_count": 31
        }
      ]
    },
    {
      "cell_type": "code",
      "source": [
        "_df[\"Transported\"].value_counts()\n",
        "_df[\"CryoSleep\"]"
      ],
      "metadata": {
        "id": "a7N5tlAGeILO",
        "colab": {
          "base_uri": "https://localhost:8080/"
        },
        "outputId": "2d49dba8-e58f-453d-a15e-815db758fbfe"
      },
      "execution_count": 32,
      "outputs": [
        {
          "output_type": "execute_result",
          "data": {
            "text/plain": [
              "0       0\n",
              "1       0\n",
              "2       0\n",
              "3       0\n",
              "4       0\n",
              "       ..\n",
              "8688    0\n",
              "8689    1\n",
              "8690    0\n",
              "8691    0\n",
              "8692    0\n",
              "Name: CryoSleep, Length: 8693, dtype: int64"
            ]
          },
          "metadata": {},
          "execution_count": 32
        }
      ]
    },
    {
      "cell_type": "markdown",
      "source": [],
      "metadata": {
        "id": "7pMFgUBuvClc"
      }
    },
    {
      "cell_type": "markdown",
      "source": [
        "calculation **Correlation** "
      ],
      "metadata": {
        "id": "rxRv962bvIsj"
      }
    },
    {
      "cell_type": "code",
      "source": [
        "_df.corr()[\"Transported\"]"
      ],
      "metadata": {
        "id": "A2tGDiJ4eIIk",
        "colab": {
          "base_uri": "https://localhost:8080/"
        },
        "outputId": "47f22788-758c-45d1-9a8c-0f469d6f113c"
      },
      "execution_count": 33,
      "outputs": [
        {
          "output_type": "execute_result",
          "data": {
            "text/plain": [
              "CryoSleep      0.460132\n",
              "Age           -0.075026\n",
              "VIP           -0.037261\n",
              "Transported    1.000000\n",
              "Name: Transported, dtype: float64"
            ]
          },
          "metadata": {},
          "execution_count": 33
        }
      ]
    },
    {
      "cell_type": "markdown",
      "source": [
        "calculation how pepole Transported\n",
        "\n"
      ],
      "metadata": {
        "id": "j2dMk-LieIF8"
      }
    },
    {
      "cell_type": "code",
      "source": [
        "from sklearn.model_selection import train_test_split\n",
        "X = _df.drop([\"Cabin\",\"Destination\",\"Name\",\"PassengerId\",\"Transported\",\"Age\",\"VIP\"],axis=1)\n",
        "Y = df[\"Transported\"] \n",
        "print(f'the number of Transported {np.sum(Y==1)}')\n",
        "print(f'the number of Transported {np.sum(Y==0)}')"
      ],
      "metadata": {
        "colab": {
          "base_uri": "https://localhost:8080/"
        },
        "id": "BmyyuNF6P9cs",
        "outputId": "3a763a2b-505f-468c-e271-ee8b50ef947f"
      },
      "execution_count": 34,
      "outputs": [
        {
          "output_type": "stream",
          "name": "stdout",
          "text": [
            "the number of Transported 4378\n",
            "the number of Transported 4315\n"
          ]
        }
      ]
    },
    {
      "cell_type": "markdown",
      "source": [
        "\n",
        "\n",
        "*   20 percent for test \n",
        "*   80 percent for train\n",
        "\n",
        "\n",
        "\n"
      ],
      "metadata": {
        "id": "IjwwpPCcvvnn"
      }
    },
    {
      "cell_type": "code",
      "source": [
        "X_trian,X_test,Y_train,Y_test = train_test_split(X,Y,test_size=0.2,random_state=42)"
      ],
      "metadata": {
        "id": "3huE1LEBeIDq"
      },
      "execution_count": 35,
      "outputs": []
    },
    {
      "cell_type": "markdown",
      "source": [
        "learn machine by trian and calculation X_test"
      ],
      "metadata": {
        "id": "uIsRTpdFwVu8"
      }
    },
    {
      "cell_type": "code",
      "source": [
        "from sklearn.preprocessing import StandardScaler\n",
        "sc = StandardScaler()\n",
        "X_trian=sc.fit_transform(X_trian)\n",
        "X_test=sc.transform(X_test)"
      ],
      "metadata": {
        "id": "sHoQeyo9eH-q"
      },
      "execution_count": 36,
      "outputs": []
    },
    {
      "cell_type": "code",
      "source": [
        "from sklearn.discriminant_analysis import QuadraticDiscriminantAnalysis\n",
        "modul=QuadraticDiscriminantAnalysis()"
      ],
      "metadata": {
        "id": "powwx1b_eH8F"
      },
      "execution_count": 37,
      "outputs": []
    },
    {
      "cell_type": "markdown",
      "source": [
        "math Quadratic Discriminant Analysis"
      ],
      "metadata": {
        "id": "IEyeO5IVwzJL"
      }
    },
    {
      "cell_type": "code",
      "source": [
        "modul.fit(X_trian,Y_train)"
      ],
      "metadata": {
        "id": "zN7cLqcPeH5c",
        "colab": {
          "base_uri": "https://localhost:8080/"
        },
        "outputId": "a906f543-db73-4a7e-cbc5-89d6559b3bf5"
      },
      "execution_count": 38,
      "outputs": [
        {
          "output_type": "execute_result",
          "data": {
            "text/plain": [
              "QuadraticDiscriminantAnalysis()"
            ]
          },
          "metadata": {},
          "execution_count": 38
        }
      ]
    },
    {
      "cell_type": "code",
      "source": [
        "predict=modul.predict(X_test)\n",
        "predict"
      ],
      "metadata": {
        "id": "f1CECX_KeH26",
        "colab": {
          "base_uri": "https://localhost:8080/"
        },
        "outputId": "04d3b41e-3f68-4f04-bf3e-20629f2ef874"
      },
      "execution_count": 39,
      "outputs": [
        {
          "output_type": "execute_result",
          "data": {
            "text/plain": [
              "array([0, 0, 1, ..., 0, 1, 0])"
            ]
          },
          "metadata": {},
          "execution_count": 39
        }
      ]
    },
    {
      "cell_type": "markdown",
      "source": [
        "print accurcy and loss"
      ],
      "metadata": {
        "id": "n2c6YqyxxVRa"
      }
    },
    {
      "cell_type": "code",
      "source": [
        "accurcy, loss = evaluate(predict,Y_test)\n",
        "print(f'accurcy: {accurcy} loss: {loss}')"
      ],
      "metadata": {
        "colab": {
          "base_uri": "https://localhost:8080/"
        },
        "id": "J19m6GD-bfel",
        "outputId": "15ca9e3c-ed62-423b-bce6-dea105b54eed"
      },
      "execution_count": 40,
      "outputs": [
        {
          "output_type": "stream",
          "name": "stdout",
          "text": [
            "accurcy: 0.7222541690626797 loss: 0.2777458309373203\n"
          ]
        }
      ]
    }
  ]
}