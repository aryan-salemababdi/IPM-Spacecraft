{
 "cells": [
  {
   "cell_type": "code",
   "execution_count": 1,
   "metadata": {},
   "outputs": [
    {
     "data": {
      "text/html": [
       "<div>\n",
       "<style scoped>\n",
       "    .dataframe tbody tr th:only-of-type {\n",
       "        vertical-align: middle;\n",
       "    }\n",
       "\n",
       "    .dataframe tbody tr th {\n",
       "        vertical-align: top;\n",
       "    }\n",
       "\n",
       "    .dataframe thead th {\n",
       "        text-align: right;\n",
       "    }\n",
       "</style>\n",
       "<table border=\"1\" class=\"dataframe\">\n",
       "  <thead>\n",
       "    <tr style=\"text-align: right;\">\n",
       "      <th></th>\n",
       "      <th>PassengerId</th>\n",
       "      <th>CryoSleep</th>\n",
       "      <th>Cabin</th>\n",
       "      <th>Destination</th>\n",
       "      <th>Age</th>\n",
       "      <th>VIP</th>\n",
       "      <th>Name</th>\n",
       "      <th>Transported</th>\n",
       "    </tr>\n",
       "  </thead>\n",
       "  <tbody>\n",
       "    <tr>\n",
       "      <th>0</th>\n",
       "      <td>0001_01</td>\n",
       "      <td>0</td>\n",
       "      <td>B/0/P</td>\n",
       "      <td>TRAPPIST-1e</td>\n",
       "      <td>39.0</td>\n",
       "      <td>0</td>\n",
       "      <td>Maham Ofracculy</td>\n",
       "      <td>0</td>\n",
       "    </tr>\n",
       "    <tr>\n",
       "      <th>1</th>\n",
       "      <td>0002_01</td>\n",
       "      <td>0</td>\n",
       "      <td>F/0/S</td>\n",
       "      <td>TRAPPIST-1e</td>\n",
       "      <td>24.0</td>\n",
       "      <td>0</td>\n",
       "      <td>Juanna Vines</td>\n",
       "      <td>1</td>\n",
       "    </tr>\n",
       "    <tr>\n",
       "      <th>2</th>\n",
       "      <td>0003_01</td>\n",
       "      <td>0</td>\n",
       "      <td>A/0/S</td>\n",
       "      <td>TRAPPIST-1e</td>\n",
       "      <td>58.0</td>\n",
       "      <td>1</td>\n",
       "      <td>Altark Susent</td>\n",
       "      <td>0</td>\n",
       "    </tr>\n",
       "    <tr>\n",
       "      <th>3</th>\n",
       "      <td>0003_02</td>\n",
       "      <td>0</td>\n",
       "      <td>A/0/S</td>\n",
       "      <td>TRAPPIST-1e</td>\n",
       "      <td>33.0</td>\n",
       "      <td>0</td>\n",
       "      <td>Solam Susent</td>\n",
       "      <td>0</td>\n",
       "    </tr>\n",
       "    <tr>\n",
       "      <th>4</th>\n",
       "      <td>0004_01</td>\n",
       "      <td>0</td>\n",
       "      <td>F/1/S</td>\n",
       "      <td>TRAPPIST-1e</td>\n",
       "      <td>16.0</td>\n",
       "      <td>0</td>\n",
       "      <td>Willy Santantines</td>\n",
       "      <td>1</td>\n",
       "    </tr>\n",
       "  </tbody>\n",
       "</table>\n",
       "</div>"
      ],
      "text/plain": [
       "  PassengerId  CryoSleep  Cabin  Destination   Age  VIP               Name  \\\n",
       "0     0001_01          0  B/0/P  TRAPPIST-1e  39.0    0    Maham Ofracculy   \n",
       "1     0002_01          0  F/0/S  TRAPPIST-1e  24.0    0       Juanna Vines   \n",
       "2     0003_01          0  A/0/S  TRAPPIST-1e  58.0    1      Altark Susent   \n",
       "3     0003_02          0  A/0/S  TRAPPIST-1e  33.0    0       Solam Susent   \n",
       "4     0004_01          0  F/1/S  TRAPPIST-1e  16.0    0  Willy Santantines   \n",
       "\n",
       "   Transported  \n",
       "0            0  \n",
       "1            1  \n",
       "2            0  \n",
       "3            0  \n",
       "4            1  "
      ]
     },
     "execution_count": 1,
     "metadata": {},
     "output_type": "execute_result"
    }
   ],
   "source": [
    "import pandas as pd\n",
    "import numpy as np\n",
    "import matplotlib.pyplot as plt\n",
    "import seaborn as sns\n",
    "df = pd.read_csv(\"A:\\project & example python\\project\\Advertising\\cleandata.csv\")\n",
    "df.head()\n",
    "_df = df.drop(\"Unnamed: 0\",axis=\"columns\")\n",
    "_df.head()"
   ]
  },
  {
   "cell_type": "code",
   "execution_count": 2,
   "metadata": {},
   "outputs": [
    {
     "data": {
      "text/plain": [
       "0       0\n",
       "1       0\n",
       "2       0\n",
       "3       0\n",
       "4       0\n",
       "       ..\n",
       "8688    0\n",
       "8689    1\n",
       "8690    0\n",
       "8691    0\n",
       "8692    0\n",
       "Name: CryoSleep, Length: 8693, dtype: int64"
      ]
     },
     "execution_count": 2,
     "metadata": {},
     "output_type": "execute_result"
    }
   ],
   "source": [
    "_df[\"Transported\"].value_counts()\n",
    "_df[\"CryoSleep\"]"
   ]
  },
  {
   "cell_type": "code",
   "execution_count": 3,
   "metadata": {},
   "outputs": [
    {
     "data": {
      "text/plain": [
       "CryoSleep      0.460132\n",
       "Age           -0.075026\n",
       "VIP           -0.037261\n",
       "Transported    1.000000\n",
       "Name: Transported, dtype: float64"
      ]
     },
     "execution_count": 3,
     "metadata": {},
     "output_type": "execute_result"
    }
   ],
   "source": [
    "_df.corr()[\"Transported\"]"
   ]
  },
  {
   "cell_type": "code",
   "execution_count": 4,
   "metadata": {},
   "outputs": [],
   "source": [
    "from sklearn.model_selection import train_test_split\n",
    "X = _df.drop([\"Cabin\",\"Destination\",\"Name\",\"PassengerId\",\"Transported\",\"Age\",\"VIP\"],axis=1)\n",
    "Y = df[\"Transported\"]"
   ]
  },
  {
   "cell_type": "code",
   "execution_count": 5,
   "metadata": {},
   "outputs": [],
   "source": [
    "X_trian,X_test,Y_train,Y_test = train_test_split(X,Y,test_size=0.1,random_state=42)"
   ]
  },
  {
   "cell_type": "code",
   "execution_count": 6,
   "metadata": {},
   "outputs": [],
   "source": [
    "from sklearn.neighbors import KNeighborsClassifier"
   ]
  },
  {
   "cell_type": "code",
   "execution_count": 7,
   "metadata": {},
   "outputs": [],
   "source": [
    "from sklearn.preprocessing import StandardScaler"
   ]
  },
  {
   "cell_type": "code",
   "execution_count": 8,
   "metadata": {},
   "outputs": [],
   "source": [
    "scaler = StandardScaler()\n",
    "knn = KNeighborsClassifier()"
   ]
  },
  {
   "cell_type": "code",
   "execution_count": 9,
   "metadata": {},
   "outputs": [],
   "source": [
    "operations = [(\"scaler\" , scaler),(\"knn\",knn)]\n",
    "from sklearn.pipeline import Pipeline\n",
    "pipe = Pipeline(operations)"
   ]
  },
  {
   "cell_type": "code",
   "execution_count": 10,
   "metadata": {},
   "outputs": [
    {
     "name": "stdout",
     "output_type": "stream",
     "text": [
      "GridSearchCV(cv=5,\n",
      "             estimator=Pipeline(steps=[('scaler', StandardScaler()),\n",
      "                                       ('knn', KNeighborsClassifier())]),\n",
      "             param_grid={'knn__n_neighbors': [1, 2, 3, 4, 5, 6, 7, 8, 9, 10, 11,\n",
      "                                              12, 13, 14, 15, 16, 17, 18, 19,\n",
      "                                              20, 21, 22, 23, 24, 25, 26, 27,\n",
      "                                              28, 29]},\n",
      "             scoring='accuracy')\n"
     ]
    }
   ],
   "source": [
    " from sklearn.model_selection import GridSearchCV\n",
    " k_values = list(range(1,30))\n",
    " param_grid = {\"knn__n_neighbors\" : k_values}\n",
    " full_cv_classifier = GridSearchCV(pipe,param_grid,cv=5,scoring=\"accuracy\")\n",
    " print(full_cv_classifier.fit(X_trian,Y_train))"
   ]
  },
  {
   "cell_type": "code",
   "execution_count": 11,
   "metadata": {},
   "outputs": [
    {
     "data": {
      "text/plain": [
       "{'memory': None,\n",
       " 'steps': [('scaler', StandardScaler()),\n",
       "  ('knn', KNeighborsClassifier(n_neighbors=8))],\n",
       " 'verbose': False,\n",
       " 'scaler': StandardScaler(),\n",
       " 'knn': KNeighborsClassifier(n_neighbors=8),\n",
       " 'scaler__copy': True,\n",
       " 'scaler__with_mean': True,\n",
       " 'scaler__with_std': True,\n",
       " 'knn__algorithm': 'auto',\n",
       " 'knn__leaf_size': 30,\n",
       " 'knn__metric': 'minkowski',\n",
       " 'knn__metric_params': None,\n",
       " 'knn__n_jobs': None,\n",
       " 'knn__n_neighbors': 8,\n",
       " 'knn__p': 2,\n",
       " 'knn__weights': 'uniform'}"
      ]
     },
     "execution_count": 11,
     "metadata": {},
     "output_type": "execute_result"
    }
   ],
   "source": [
    "full_cv_classifier.best_estimator_.get_params()"
   ]
  },
  {
   "cell_type": "code",
   "execution_count": 12,
   "metadata": {},
   "outputs": [
    {
     "name": "stdout",
     "output_type": "stream",
     "text": [
      "    mean_fit_time  std_fit_time  mean_score_time  std_score_time  \\\n",
      "0        0.019150      0.003422         0.364664        0.074602   \n",
      "1        0.022937      0.014033         0.390359        0.080977   \n",
      "2        0.016732      0.005927         0.329583        0.101049   \n",
      "3        0.013186      0.002219         0.241457        0.035255   \n",
      "4        0.012566      0.001353         0.222639        0.025549   \n",
      "5        0.011409      0.001276         0.194645        0.010184   \n",
      "6        0.014247      0.007084         0.212636        0.048036   \n",
      "7        0.007988      0.000903         0.148792        0.027868   \n",
      "8        0.007691      0.000874         0.139620        0.020606   \n",
      "9        0.007784      0.001315         0.133833        0.004241   \n",
      "10       0.007181      0.000399         0.133642        0.003837   \n",
      "11       0.008807      0.000449         0.152992        0.035863   \n",
      "12       0.008639      0.001419         0.156313        0.026508   \n",
      "13       0.007780      0.001164         0.141022        0.005262   \n",
      "14       0.009375      0.001017         0.192486        0.094266   \n",
      "15       0.010970      0.003512         0.220211        0.072187   \n",
      "16       0.007782      0.000751         0.141423        0.014016   \n",
      "17       0.008378      0.000488         0.138629        0.006496   \n",
      "18       0.007972      0.001092         0.139049        0.004342   \n",
      "19       0.007779      0.000746         0.137033        0.002410   \n",
      "20       0.008177      0.001466         0.140637        0.008239   \n",
      "21       0.007977      0.000641         0.133637        0.004126   \n",
      "22       0.008582      0.001362         0.139062        0.009037   \n",
      "23       0.007385      0.000796         0.134826        0.002969   \n",
      "24       0.007981      0.000892         0.134638        0.005678   \n",
      "25       0.007865      0.000218         0.133753        0.003480   \n",
      "26       0.007379      0.001018         0.133245        0.002863   \n",
      "27       0.006785      0.000755         0.136690        0.004128   \n",
      "28       0.007794      0.000964         0.133229        0.002946   \n",
      "\n",
      "   param_knn__n_neighbors                    params  split0_test_score  \\\n",
      "0                       1   {'knn__n_neighbors': 1}           0.504792   \n",
      "1                       2   {'knn__n_neighbors': 2}           0.504792   \n",
      "2                       3   {'knn__n_neighbors': 3}           0.504792   \n",
      "3                       4   {'knn__n_neighbors': 4}           0.504792   \n",
      "4                       5   {'knn__n_neighbors': 5}           0.504792   \n",
      "5                       6   {'knn__n_neighbors': 6}           0.504792   \n",
      "6                       7   {'knn__n_neighbors': 7}           0.504792   \n",
      "7                       8   {'knn__n_neighbors': 8}           0.729073   \n",
      "8                       9   {'knn__n_neighbors': 9}           0.504792   \n",
      "9                      10  {'knn__n_neighbors': 10}           0.504792   \n",
      "10                     11  {'knn__n_neighbors': 11}           0.504792   \n",
      "11                     12  {'knn__n_neighbors': 12}           0.729073   \n",
      "12                     13  {'knn__n_neighbors': 13}           0.729073   \n",
      "13                     14  {'knn__n_neighbors': 14}           0.729073   \n",
      "14                     15  {'knn__n_neighbors': 15}           0.729073   \n",
      "15                     16  {'knn__n_neighbors': 16}           0.729073   \n",
      "16                     17  {'knn__n_neighbors': 17}           0.729073   \n",
      "17                     18  {'knn__n_neighbors': 18}           0.729073   \n",
      "18                     19  {'knn__n_neighbors': 19}           0.729073   \n",
      "19                     20  {'knn__n_neighbors': 20}           0.729073   \n",
      "20                     21  {'knn__n_neighbors': 21}           0.729073   \n",
      "21                     22  {'knn__n_neighbors': 22}           0.729073   \n",
      "22                     23  {'knn__n_neighbors': 23}           0.729073   \n",
      "23                     24  {'knn__n_neighbors': 24}           0.729073   \n",
      "24                     25  {'knn__n_neighbors': 25}           0.729073   \n",
      "25                     26  {'knn__n_neighbors': 26}           0.729073   \n",
      "26                     27  {'knn__n_neighbors': 27}           0.729073   \n",
      "27                     28  {'knn__n_neighbors': 28}           0.729073   \n",
      "28                     29  {'knn__n_neighbors': 29}           0.729073   \n",
      "\n",
      "    split1_test_score  split2_test_score  split3_test_score  \\\n",
      "0            0.495208           0.494569           0.494885   \n",
      "1            0.495208           0.494569           0.494885   \n",
      "2            0.504792           0.505431           0.505115   \n",
      "3            0.286262           0.290735           0.276215   \n",
      "4            0.504792           0.505431           0.505115   \n",
      "5            0.713738           0.709265           0.723785   \n",
      "6            0.713738           0.709265           0.723785   \n",
      "7            0.713738           0.709265           0.723785   \n",
      "8            0.713738           0.709265           0.723785   \n",
      "9            0.713738           0.709265           0.723785   \n",
      "10           0.713738           0.709265           0.723785   \n",
      "11           0.713738           0.709265           0.723785   \n",
      "12           0.713738           0.709265           0.723785   \n",
      "13           0.713738           0.709265           0.723785   \n",
      "14           0.713738           0.709265           0.723785   \n",
      "15           0.713738           0.709265           0.723785   \n",
      "16           0.713738           0.709265           0.723785   \n",
      "17           0.713738           0.709265           0.723785   \n",
      "18           0.713738           0.709265           0.723785   \n",
      "19           0.713738           0.709265           0.723785   \n",
      "20           0.713738           0.709265           0.723785   \n",
      "21           0.713738           0.709265           0.723785   \n",
      "22           0.713738           0.709265           0.723785   \n",
      "23           0.713738           0.709265           0.723785   \n",
      "24           0.713738           0.709265           0.723785   \n",
      "25           0.713738           0.709265           0.723785   \n",
      "26           0.713738           0.709265           0.723785   \n",
      "27           0.713738           0.709265           0.723785   \n",
      "28           0.713738           0.709265           0.723785   \n",
      "\n",
      "    split4_test_score  mean_test_score  std_test_score  rank_test_score  \n",
      "0            0.494885         0.496868        0.003967               27  \n",
      "1            0.494885         0.496868        0.003967               27  \n",
      "2            0.505115         0.505049        0.000239               25  \n",
      "3            0.280051         0.327611        0.088731               29  \n",
      "4            0.505115         0.505049        0.000239               25  \n",
      "5            0.719949         0.674306        0.084904               20  \n",
      "6            0.719949         0.674306        0.084904               20  \n",
      "7            0.719949         0.719162        0.007037                1  \n",
      "8            0.719949         0.674306        0.084904               20  \n",
      "9            0.719949         0.674306        0.084904               20  \n",
      "10           0.719949         0.674306        0.084904               20  \n",
      "11           0.719949         0.719162        0.007037                1  \n",
      "12           0.719949         0.719162        0.007037                1  \n",
      "13           0.719949         0.719162        0.007037                1  \n",
      "14           0.719949         0.719162        0.007037                1  \n",
      "15           0.719949         0.719162        0.007037                1  \n",
      "16           0.719949         0.719162        0.007037                1  \n",
      "17           0.719949         0.719162        0.007037                1  \n",
      "18           0.719949         0.719162        0.007037                1  \n",
      "19           0.719949         0.719162        0.007037                1  \n",
      "20           0.719949         0.719162        0.007037                1  \n",
      "21           0.719949         0.719162        0.007037                1  \n",
      "22           0.719949         0.719162        0.007037                1  \n",
      "23           0.719949         0.719162        0.007037                1  \n",
      "24           0.719949         0.719162        0.007037                1  \n",
      "25           0.719949         0.719162        0.007037                1  \n",
      "26           0.719949         0.719162        0.007037                1  \n",
      "27           0.719949         0.719162        0.007037                1  \n",
      "28           0.719949         0.719162        0.007037                1  \n"
     ]
    },
    {
     "data": {
      "text/plain": [
       "<AxesSubplot:>"
      ]
     },
     "execution_count": 12,
     "metadata": {},
     "output_type": "execute_result"
    },
    {
     "data": {
      "image/png": "[encoded data removed]",
      "text/plain": [
       "<Figure size 432x288 with 1 Axes>"
      ]
     },
     "metadata": {
      "needs_background": "light"
     },
     "output_type": "display_data"
    }
   ],
   "source": [
    "print(pd.DataFrame(full_cv_classifier.cv_results_))\n",
    "pd.DataFrame(full_cv_classifier.cv_results_)[\"mean_test_score\"].plot()"
   ]
  },
  {
   "cell_type": "code",
   "execution_count": 13,
   "metadata": {},
   "outputs": [],
   "source": [
    "y_pred = full_cv_classifier.predict(X_test)"
   ]
  },
  {
   "cell_type": "code",
   "execution_count": 14,
   "metadata": {},
   "outputs": [
    {
     "data": {
      "text/plain": [
       "array([[375,  68],\n",
       "       [184, 243]], dtype=int64)"
      ]
     },
     "execution_count": 14,
     "metadata": {},
     "output_type": "execute_result"
    }
   ],
   "source": [
    "from sklearn.metrics import classification_report,confusion_matrix\n",
    "confusion_matrix(Y_test,y_pred)"
   ]
  },
  {
   "cell_type": "code",
   "execution_count": 15,
   "metadata": {},
   "outputs": [
    {
     "name": "stdout",
     "output_type": "stream",
     "text": [
      "              precision    recall  f1-score   support\n",
      "\n",
      "           0       0.67      0.85      0.75       443\n",
      "           1       0.78      0.57      0.66       427\n",
      "\n",
      "    accuracy                           0.71       870\n",
      "   macro avg       0.73      0.71      0.70       870\n",
      "weighted avg       0.73      0.71      0.70       870\n",
      "\n"
     ]
    }
   ],
   "source": [
    "print(classification_report(Y_test,y_pred))"
   ]
  },
  {
   "cell_type": "code",
   "execution_count": null,
   "metadata": {},
   "outputs": [],
   "source": [
    "\n"
   ]
  }
 ],
 "metadata": {
  "kernelspec": {
   "display_name": "Python 3",
   "language": "python",
   "name": "python3"
  },
  "language_info": {
   "codemirror_mode": {
    "name": "ipython",
    "version": 3
   },
   "file_extension": ".py",
   "mimetype": "text/x-python",
   "name": "python",
   "nbconvert_exporter": "python",
   "pygments_lexer": "ipython3",
   "version": "3.10.0"
  },
  "orig_nbformat": 4,
  "vscode": {
   "interpreter": {
    "hash": "a9cff5a362bc38ef45d817ae74b1af54d6a076e3d773891282bce078b815ba34"
   }
  }
 },
 "nbformat": 4,
 "nbformat_minor": 2
}
